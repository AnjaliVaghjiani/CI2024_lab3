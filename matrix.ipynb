{
 "cells": [
  {
   "cell_type": "code",
   "execution_count": 2,
   "metadata": {},
   "outputs": [
    {
     "name": "stderr",
     "output_type": "stream",
     "text": [
      "c:\\Users\\anjal\\Desktop\\computational Interlligence\\CI2024_lab1\\CI2024_lab1\\CI2024_lab1\\Lib\\site-packages\\tqdm\\auto.py:21: TqdmWarning: IProgress not found. Please update jupyter and ipywidgets. See https://ipywidgets.readthedocs.io/en/stable/user_install.html\n",
      "  from .autonotebook import tqdm as notebook_tqdm\n"
     ]
    }
   ],
   "source": [
    "import numpy as np\n",
    "import random \n",
    "from tqdm.auto import tqdm\n",
    "import heapq"
   ]
  },
  {
   "cell_type": "markdown",
   "metadata": {},
   "source": [
    "## Generation of the random matrix of N dimension"
   ]
  },
  {
   "cell_type": "code",
   "execution_count": 3,
   "metadata": {},
   "outputs": [],
   "source": [
    "#just a function to check if the randomly generated matrix is solvable or not\n",
    "def is_solvable(puzzle, n):\n",
    "    flattened = [tile for row in puzzle for tile in row if tile != 0]\n",
    "    inversions = sum(1 for i in range(len(flattened)) for j in range(i+1, len(flattened)) if flattened[i]>flattened[j])\n",
    "    if n%2 != 0:\n",
    "        return inversions % 2 == 0\n",
    "    else:\n",
    "        blank_row = n -np.where(puzzle == 0)[0][0]\n",
    "        return (blank_row % 2 == 0) != (inversions %2 == 0)                                  "
   ]
  },
  {
   "cell_type": "code",
   "execution_count": 4,
   "metadata": {},
   "outputs": [],
   "source": [
    "def matrix_generator(n):\n",
    "    while True:\n",
    "        puzzle = np.random.permutation(n**2).reshape(n,n)\n",
    "        if is_solvable(puzzle, n):\n",
    "            return puzzle"
   ]
  },
  {
   "cell_type": "markdown",
   "metadata": {},
   "source": [
    "## Implementaion of A*"
   ]
  },
  {
   "cell_type": "code",
   "execution_count": 5,
   "metadata": {},
   "outputs": [],
   "source": [
    "#the helper function used to calculate the Manhattan Distance heuristic\n",
    "\n",
    "def manhattan_distance(state, goal):\n",
    "    n = state.shape[0] #it is the length of state as Dimension of the matrix\n",
    "    distance = 0\n",
    "    for i in range(n):\n",
    "        for j in range(n):\n",
    "            if state[i,j] != 0:\n",
    "                goal_pos = divmod(goal.index(state[i,j]), n)\n",
    "                # goal_pos = np.argwhere(goal == state[i,j])[0]\n",
    "                distance += abs(i-goal_pos[0]) + abs(j-goal_pos[1])\n",
    "        return distance"
   ]
  },
  {
   "cell_type": "code",
   "execution_count": 6,
   "metadata": {},
   "outputs": [],
   "source": [
    "#generation of neighbouring states by moving the blank tilt\n",
    "\n",
    "def get_neighbors(state):\n",
    "    n = state.shape[0]\n",
    "    neighbors = []\n",
    "    x, y = np.argwhere(state == 0)[0]\n",
    "    moves = [(-1, 0), (1,0), (0, -1), (0,1)] #top , bottom, Left, right\n",
    "    for dx, dy in moves:\n",
    "        nx, ny = x+dx, y+dy\n",
    "        if 0<=nx <n and 0 <= ny <n:\n",
    "            new_state = state.copy()\n",
    "            new_state[x, y], new_state[nx, ny] = new_state[nx, ny], new_state[x,y]\n",
    "            neighbors.append(new_state)\n",
    "    return neighbors"
   ]
  },
  {
   "cell_type": "code",
   "execution_count": 7,
   "metadata": {},
   "outputs": [],
   "source": [
    "def a_star_search(start, goal):\n",
    "    n = start.shape[0]\n",
    "    goal_flat = [tile for row in goal for tile in row]  # Flatten goal for heuristic\n",
    "    \n",
    "    # Normalize to Python tuple of integers\n",
    "    start_tuple = tuple(tuple(int(val) for val in row) for row in start)\n",
    "    goal_tuple = tuple(tuple(int(val) for val in row) for row in goal)\n",
    "\n",
    "    # Priority queue for A* (f(n), g(n), state, path)\n",
    "    frontier = [(manhattan_distance(start, goal_flat), 0, start_tuple, [])]\n",
    "    heapq.heapify(frontier)\n",
    "    visited = set()\n",
    "\n",
    "    cost = 0  # Nodes evaluated\n",
    "\n",
    "    while frontier:\n",
    "        f, g, current, path = heapq.heappop(frontier)\n",
    "        cost += 1\n",
    "\n",
    "        # Convert `current` back to a NumPy array for processing\n",
    "        current_state = np.array(current)\n",
    "\n",
    "        # Debugging: Print the current state and frontier\n",
    "        # print(f\"Current State:\\n{current_state}\")\n",
    "        # print(f\"Frontier: {frontier}\")\n",
    "\n",
    "        # Check if the goal state is reached\n",
    "        if np.array_equal(current_state, goal):\n",
    "            return path, cost\n",
    "\n",
    "        # Add the current state to visited (converted to tuple for hashability)\n",
    "        visited.add(current)\n",
    "\n",
    "        # Generate neighbors\n",
    "        for neighbor in get_neighbors(current_state):\n",
    "            # Normalize the neighbor to Python `int` tuples\n",
    "            neighbor_tuple = tuple(tuple(int(val) for val in row) for row in neighbor)\n",
    "\n",
    "            # Only add neighbor if not already visited\n",
    "            if neighbor_tuple not in visited:\n",
    "                h = manhattan_distance(neighbor, goal_flat)\n",
    "\n",
    "                # Push to the frontier, ensuring everything is tuples and integers\n",
    "                heapq.heappush(frontier, (\n",
    "                    g + 1 + h,\n",
    "                    g + 1,\n",
    "                    neighbor_tuple,\n",
    "                    path + [neighbor_tuple]  # Use tuples here as well\n",
    "                ))\n",
    "\n",
    "    return None, cost  # No solution found\n"
   ]
  },
  {
   "cell_type": "code",
   "execution_count": 8,
   "metadata": {},
   "outputs": [],
   "source": [
    "def ida_star_search(start, goal):\n",
    "    # Convert `goal` to a list for compatibility with `manhattan_distance`\n",
    "    goal_flat = [int(tile) for row in goal for tile in row]\n",
    "\n",
    "    def search(state, g, threshold, path, cost):\n",
    "        f = g + manhattan_distance(state, goal_flat)\n",
    "\n",
    "        # If the cost exceeds the threshold, return f-value\n",
    "        if f > threshold:\n",
    "            return f, None\n",
    "\n",
    "        # If goal state is reached\n",
    "        if np.array_equal(state, goal):\n",
    "            return f, path\n",
    "\n",
    "        min_threshold = float('inf')\n",
    "        for neighbor in get_neighbors(state):\n",
    "            # Avoid revisiting states in the current path\n",
    "            if any(np.array_equal(neighbor, p) for p in path):\n",
    "                continue\n",
    "\n",
    "            # Continue search recursively\n",
    "            new_path = path + [neighbor]\n",
    "            cost += 1  # Increment cost for each node explored\n",
    "            temp_threshold, result_path = search(neighbor, g + 1, threshold, new_path, cost)\n",
    "\n",
    "            if result_path is not None:\n",
    "                return temp_threshold, result_path\n",
    "\n",
    "            min_threshold = min(min_threshold, temp_threshold)\n",
    "\n",
    "        return min_threshold, None\n",
    "\n",
    "    # Initial threshold is the heuristic value of the start state\n",
    "    threshold = manhattan_distance(start, goal_flat)\n",
    "    cost = 0  # Nodes evaluated counter\n",
    "\n",
    "    while True:\n",
    "        result_threshold, result_path = search(start, 0, threshold, [start], cost)\n",
    "\n",
    "        if result_path is not None:\n",
    "            quality = len(result_path) - 1  # Number of moves in the solution path\n",
    "            cost = result_threshold\n",
    "            efficiency = quality / cost if cost != 0 else 0\n",
    "            return result_path, quality, cost, efficiency\n",
    "\n",
    "        if result_threshold == float('inf'):\n",
    "            return None, 0, 0, 0  # No solution found\n",
    "\n",
    "        threshold = result_threshold  # Update threshold and repeat"
   ]
  },
  {
   "cell_type": "code",
   "execution_count": null,
   "metadata": {},
   "outputs": [
    {
     "name": "stdout",
     "output_type": "stream",
     "text": [
      "initial matrix is: \n",
      "[[ 8 10 15  9]\n",
      " [ 6  2  4  5]\n",
      " [14  3 11  7]\n",
      " [12 13  0  1]]\n",
      "the goal matrix is: \n",
      "[[ 1  2  3  4]\n",
      " [ 5  6  7  8]\n",
      " [ 9 10 11 12]\n",
      " [13 14 15  0]]\n"
     ]
    }
   ],
   "source": [
    "PUZZLE_DIM = 4\n",
    "start = matrix_generator(PUZZLE_DIM)\n",
    "goal = np.arange(1, PUZZLE_DIM**2).tolist() + [0]\n",
    "goal = np.array(goal).reshape(PUZZLE_DIM,PUZZLE_DIM)\n",
    "\n",
    "print(\"initial matrix is: \")\n",
    "print(start)\n",
    "print(\"the goal matrix is: \")\n",
    "print(goal)\n",
    "\n",
    "# solution_path, total_cost = a_star_search(start, goal)\n",
    "\n",
    "\n",
    "# # print(\"\\nSolution:\")\n",
    "# # for step in solution_path:\n",
    "# #     print(np.array(step), \"\\n\")\n",
    "# print(\"Output using A*\")\n",
    "# print(f\"Quality (Number of Moves): {len(solution_path)}\") #length of the solution path in case of A* it is equivalent to the length of the solution path.\n",
    "# print(f\"Cost (Nodes Evaluated): {total_cost}\") #total no of state the algorithms has evaluated or processed in order to find the solution.\n",
    "# print(f\"Efficiency (Quality / Cost): {len(solution_path) / total_cost:.4f}\")\n",
    "\n",
    "\n",
    "solution, quality, cost, efficiency = ida_star_search(start, goal)\n",
    "print(\"output of IDA* with heuristic\")\n",
    "print(f\"Quality (Number of Moves): {quality}\")\n",
    "print(f\"Cost (Nodes Evaluated): {cost}\")\n",
    "print(f\"Efficiency (Quality / Cost): {efficiency:.4f}\")"
   ]
  }
 ],
 "metadata": {
  "kernelspec": {
   "display_name": "CI2024_lab1",
   "language": "python",
   "name": "python3"
  },
  "language_info": {
   "codemirror_mode": {
    "name": "ipython",
    "version": 3
   },
   "file_extension": ".py",
   "mimetype": "text/x-python",
   "name": "python",
   "nbconvert_exporter": "python",
   "pygments_lexer": "ipython3",
   "version": "3.13.0"
  }
 },
 "nbformat": 4,
 "nbformat_minor": 2
}
