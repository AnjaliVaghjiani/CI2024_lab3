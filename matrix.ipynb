{
 "cells": [
  {
   "cell_type": "code",
   "execution_count": 18,
   "metadata": {},
   "outputs": [],
   "source": [
    "from collections import deque\n",
    "import numpy as np\n",
    "import heapq\n",
    "from collections import namedtuple\n",
    "State = namedtuple('State', ['state', 'g_cost', 'h_cost', 'path'])"
   ]
  },
  {
   "cell_type": "markdown",
   "metadata": {},
   "source": [
    "## Generation of the random matrix of N dimension"
   ]
  },
  {
   "cell_type": "code",
   "execution_count": 19,
   "metadata": {},
   "outputs": [],
   "source": [
    "#just a function to check if the randomly generated matrix is solvable or not\n",
    "def is_solvable(puzzle, n):\n",
    "    flattened = [tile for row in puzzle for tile in row if tile != 0]\n",
    "    inversions = sum(1 for i in range(len(flattened)) for j in range(i+1, len(flattened)) if flattened[i]>flattened[j])\n",
    "    if n%2 != 0:\n",
    "        return inversions % 2 == 0\n",
    "    else:\n",
    "        blank_row = n -np.where(puzzle == 0)[0][0]\n",
    "        return (blank_row % 2 == 0) != (inversions %2 == 0)                                  "
   ]
  },
  {
   "cell_type": "code",
   "execution_count": 20,
   "metadata": {},
   "outputs": [],
   "source": [
    "def matrix_generator(n):\n",
    "    while True:\n",
    "        puzzle = np.random.permutation(n**2).reshape(n,n)\n",
    "        if is_solvable(puzzle, n):\n",
    "            return puzzle"
   ]
  },
  {
   "cell_type": "markdown",
   "metadata": {},
   "source": [
    "## Implementaion of A*"
   ]
  },
  {
   "cell_type": "code",
   "execution_count": 21,
   "metadata": {},
   "outputs": [],
   "source": [
    "# Manhattan Distance Heuristic\n",
    "def manhattan_distance(state, goal_flat):\n",
    "    \"\"\"Calculate Manhattan distance between a current state and the goal.\"\"\"\n",
    "    n = state.shape[0]\n",
    "    distance = 0\n",
    "    for i in range(n):\n",
    "        for j in range(n):\n",
    "            value = state[i, j]\n",
    "            if value != 0:\n",
    "                goal_index = goal_flat.index(value)\n",
    "                goal_x, goal_y = divmod(goal_index, n)\n",
    "                distance += abs(i - goal_x) + abs(j - goal_y)\n",
    "    return distance"
   ]
  },
  {
   "cell_type": "code",
   "execution_count": 22,
   "metadata": {},
   "outputs": [],
   "source": [
    "#generation of neighbouring states by moving the blank tilt\n",
    "\n",
    "def get_neighbors(state):\n",
    "    n = state.shape[0]\n",
    "    neighbors = []\n",
    "    x, y = np.argwhere(state == 0)[0]\n",
    "    moves = [(-1, 0), (1,0), (0, -1), (0,1)] #top , bottom, Left, right\n",
    "    for dx, dy in moves:\n",
    "        nx, ny = x+dx, y+dy\n",
    "        if 0<=nx <n and 0 <= ny <n:\n",
    "            new_state = state.copy()\n",
    "            new_state[x, y], new_state[nx, ny] = new_state[nx, ny], new_state[x,y]\n",
    "            neighbors.append(new_state)\n",
    "    return neighbors"
   ]
  },
  {
   "cell_type": "code",
   "execution_count": 23,
   "metadata": {},
   "outputs": [],
   "source": [
    "def state_to_tuple(state):\n",
    "    return tuple(state.flatten())"
   ]
  },
  {
   "cell_type": "code",
   "execution_count": 24,
   "metadata": {},
   "outputs": [],
   "source": [
    "# Bidirectional A* Search function\n",
    "def bidirectional_a_star(start, goal):\n",
    "    n = start.shape[0]\n",
    "    goal_flat = [tile for row in goal for tile in row]  # Flatten the goal for heuristic\n",
    "\n",
    "    # Priority queues for both searches (start and goal)\n",
    "    frontier_start = []\n",
    "    frontier_goal = []\n",
    "    \n",
    "    # Visited dictionaries for both directions\n",
    "    visited_start = {}\n",
    "    visited_goal = {}\n",
    "\n",
    "    # Add the initial states to the frontier\n",
    "    heapq.heappush(frontier_start, (manhattan_distance(start, goal_flat), 0, state_to_tuple(start), [start]))\n",
    "    heapq.heappush(frontier_goal, (manhattan_distance(goal, goal_flat), 0, state_to_tuple(goal), [goal]))\n",
    "    \n",
    "    visited_start[state_to_tuple(start)] = (0, [start])  # (cost, path)\n",
    "    visited_goal[state_to_tuple(goal)] = (0, [goal])  # (cost, path)\n",
    "\n",
    "    while frontier_start and frontier_goal:\n",
    "        # Expand the frontiers from both directions\n",
    "        f_start, g_start, current_start_tuple, path_start = heapq.heappop(frontier_start)\n",
    "        f_goal, g_goal, current_goal_tuple, path_goal = heapq.heappop(frontier_goal)\n",
    "\n",
    "        # Reconstruct the numpy arrays from the tuples\n",
    "        current_start = np.array(current_start_tuple).reshape(n, n)\n",
    "        current_goal = np.array(current_goal_tuple).reshape(n, n)\n",
    "        \n",
    "        # Check if the two searches meet (intersection)\n",
    "        if current_start_tuple in visited_goal:\n",
    "            path_goal_back = visited_goal[current_start_tuple][1]\n",
    "            return path_start + path_goal_back[::-1], g_start + g_goal\n",
    "\n",
    "        if current_goal_tuple in visited_start:\n",
    "            path_start_back = visited_start[current_goal_tuple][1]\n",
    "            return path_goal + path_start_back[::-1], g_start + g_goal\n",
    "\n",
    "        # Expand from the start search\n",
    "        for neighbor in get_neighbors(current_start):\n",
    "            neighbor_tuple = state_to_tuple(neighbor)\n",
    "            if neighbor_tuple not in visited_start:\n",
    "                heapq.heappush(frontier_start, (\n",
    "                    g_start + 1 + manhattan_distance(neighbor, goal_flat),\n",
    "                    g_start + 1,\n",
    "                    neighbor_tuple,\n",
    "                    path_start + [neighbor]\n",
    "                ))\n",
    "                visited_start[neighbor_tuple] = (g_start + 1, path_start + [neighbor])\n",
    "\n",
    "        # Expand from the goal search\n",
    "        for neighbor in get_neighbors(current_goal):\n",
    "            neighbor_tuple = state_to_tuple(neighbor)\n",
    "            if neighbor_tuple not in visited_goal:\n",
    "                heapq.heappush(frontier_goal, (\n",
    "                    g_goal + 1 + manhattan_distance(neighbor, goal_flat),\n",
    "                    g_goal + 1,\n",
    "                    neighbor_tuple,\n",
    "                    path_goal + [neighbor]\n",
    "                ))\n",
    "                visited_goal[neighbor_tuple] = (g_goal + 1, path_goal + [neighbor])\n",
    "\n",
    "    return None, 0"
   ]
  },
  {
   "cell_type": "code",
   "execution_count": null,
   "metadata": {},
   "outputs": [
    {
     "name": "stdout",
     "output_type": "stream",
     "text": [
      "Initial puzzle state:\n",
      " [[ 5 10  9 14]\n",
      " [12  2  8  4]\n",
      " [15  7  0  6]\n",
      " [13 11  1  3]]\n",
      "Goal puzzle state:\n",
      " [[ 1  2  3  4]\n",
      " [ 5  6  7  8]\n",
      " [ 9 10 11 12]\n",
      " [13 14 15  0]]\n",
      "Quality (Number of Moves): 62\n",
      "Cost (Nodes Evaluated): 57\n",
      "Efficiency (Quality / Cost): 1.0877\n"
     ]
    }
   ],
   "source": [
    "PUZZLE_DIM = 4\n",
    "start = matrix_generator(PUZZLE_DIM)\n",
    "goal = np.arange(1, PUZZLE_DIM**2).tolist() + [0]\n",
    "goal = np.array(goal).reshape(PUZZLE_DIM, PUZZLE_DIM)\n",
    "\n",
    "print(\"Initial puzzle state:\\n\", start)\n",
    "print(\"Goal puzzle state:\\n\", goal)\n",
    "\n",
    "# Run Bidirectional A* Search\n",
    "solution_path, cost = bidirectional_a_star(start, goal)\n",
    "\n",
    "\n",
    "print(f\"Quality (Number of Moves): {len(solution_path)}\") #length of the solution path in case of A* it is equivalent to the length of the solution path.\n",
    "print(f\"Cost (Nodes Evaluated): {cost}\")\n",
    "print(f\"Efficiency (Quality / Cost): {len(solution_path) / cost:.4f}\")\n",
    "\n"
   ]
  }
 ],
 "metadata": {
  "kernelspec": {
   "display_name": "CI2024_lab1",
   "language": "python",
   "name": "python3"
  },
  "language_info": {
   "codemirror_mode": {
    "name": "ipython",
    "version": 3
   },
   "file_extension": ".py",
   "mimetype": "text/x-python",
   "name": "python",
   "nbconvert_exporter": "python",
   "pygments_lexer": "ipython3",
   "version": "3.13.0"
  }
 },
 "nbformat": 4,
 "nbformat_minor": 2
}
